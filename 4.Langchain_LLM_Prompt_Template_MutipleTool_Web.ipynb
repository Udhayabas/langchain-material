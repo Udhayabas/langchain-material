{
 "cells": [
  {
   "cell_type": "code",
   "execution_count": 1,
   "id": "ab360452-9607-4f8f-8b72-422e08220a5a",
   "metadata": {},
   "outputs": [
    {
     "name": "stderr",
     "output_type": "stream",
     "text": [
      "c:\\Anaconda3\\envs\\langchainhope\\lib\\site-packages\\requests\\__init__.py:86: RequestsDependencyWarning: Unable to find acceptable character detection dependency (chardet or charset_normalizer).\n",
      "  warnings.warn(\n",
      "C:\\Users\\Ramisha Aravind\\AppData\\Local\\Temp\\ipykernel_9904\\190769646.py:15: LangChainDeprecationWarning: The class `ChatOpenAI` was deprecated in LangChain 0.0.10 and will be removed in 1.0. An updated version of the class exists in the :class:`~langchain-openai package and should be used instead. To use it run `pip install -U :class:`~langchain-openai` and import as `from :class:`~langchain_openai import ChatOpenAI``.\n",
      "  llm = ChatOpenAI(model=\"gpt-3.5-turbo\", temperature=0)\n",
      "C:\\Users\\Ramisha Aravind\\AppData\\Local\\Temp\\ipykernel_9904\\190769646.py:19: LangChainDeprecationWarning: The class `LLMChain` was deprecated in LangChain 0.1.17 and will be removed in 1.0. Use :meth:`~RunnableSequence, e.g., `prompt | llm`` instead.\n",
      "  qa_chain = LLMChain(llm=llm, prompt=qa_prompt)\n",
      "C:\\Users\\Ramisha Aravind\\AppData\\Local\\Temp\\ipykernel_9904\\190769646.py:38: LangChainDeprecationWarning: The class `TavilySearchResults` was deprecated in LangChain 0.3.25 and will be removed in 1.0. An updated version of the class exists in the :class:`~langchain-tavily package and should be used instead. To use it run `pip install -U :class:`~langchain-tavily` and import as `from :class:`~langchain_tavily import TavilySearch``.\n",
      "  func=TavilySearchResults(max_results=3).run,\n"
     ]
    },
    {
     "name": "stdout",
     "output_type": "stream",
     "text": [
      "\n",
      "🧠 Simple QA Tool Output:\n",
      " LangGraph in LangChain is a graph database that stores and manages language data, including words, phrases, and their relationships. It is a key component of the LangChain platform, allowing for efficient storage, retrieval, and analysis of language-related information.\n",
      "\n",
      "📝 Summarizer Tool Output:\n",
      " LangGraph is a framework that utilizes LangChain to create stateful multi-step agents. It employs a graph-based design to represent agent workflows and memory.\n",
      "\n",
      "🌐 Web Search Tool Output:\n",
      " [{'title': 'ChatGPT — Release Notes: 2025-March-27 - GPT-4o a new update', 'url': 'https://community.openai.com/t/chatgpt-release-notes-2025-march-27-gpt-4o-a-new-update/1153887', 'content': '# ChatGPT — Release Notes: 2025-March-27 - GPT-4o a new update\\n\\nOpenAI just gave GPT-4o a new update. Based on content on OpenAI help page:\\n\\nThis model is now available in ChatGPT and in the API as the newest snapshot of chatgpt-4o-latest.\\n\\nWe plan to bring these improvements to a dated model in the API in the coming weeks.\\n\\nDoes this affect GPT-4o-mini too, or just GPT-4o?\\n\\nGenerally, I don’t use 4o mini.\\n\\nBut I just tested, it is same on my end. [...] Does this mean that custom GPTs are now also upgraded since these also use gpt4o?\\n\\nFor image generation, I’ve seen this message…\\n\\nsoon\\n\\nsoon\\n\\nIt links to this page…\\n\\nDefinition of “soon” is likely a bit “loose” haha\\n\\nDoes this mean that custom GPTs are now also upgraded since these also use gpt4o?\\n\\nYes correct, this means that when you use custom GPTs, you use latest version of GPT-4o.\\n\\nI asked to OpenAI Team, and they confirmed:\\n\\npolepole-4o-update\\n\\npolepole-4o-update509×282 17 KB [...] I was collaborating a writing a beautiful story, next day everything was changed. I loved it the way it was, it was so perfect. I’m so upset right now. I love the way we were communicating and collaborating. Can I go back to the way it was just yesterday?\\n\\nAny updates on when will the updated version be available on Azure OpenAI?', 'score': 0.8820324}, {'title': 'GPT-4o - Wikipedia', 'url': 'https://en.wikipedia.org/wiki/GPT-4o', 'content': '| Generative Pre-trained Transformer 4 Omni (GPT-4o) | |\\n| --- | --- |\\n| Developer(s) | OpenAI |\\n| Initial release | May 13, 2024; 14 months ago (2024-05-13) |\\n|  | |\\n| Preview release | ChatGPT-4o-latest (2025-03-26) / March 26, 2025; 4 months ago (2025-03-26) |\\n|  | |\\n| Predecessor | GPT-4 Turbo |\\n| Successor |  OpenAI o1  GPT-4.5 |\\n| Type |  Multimodal  Large language model  Generative pre-trained transformer  Foundation model |\\n| License | Proprietary | [...] In August 2024, OpenAI introduced a new feature allowing corporate customers to customize GPT-4o using proprietary company data. This customization, known as fine-tuning \"Fine-tuning (deep learning)\"), enables businesses to adapt GPT-4o to specific tasks or industries, enhancing its utility in areas like customer service and specialized knowledge domains. Previously, fine-tuning was available only on the less powerful model GPT-4o mini. [...] ### Sycophancy\\n\\nIn April 2025, OpenAI rolled back an update of GPT-4o due to excessive sycophancy, after widespread reports that it had become flattering and agreeable to the point of supporting clearly delusional or dangerous ideas.\\n\\n## See also\\n\\n## References', 'score': 0.85538095}, {'title': 'Model Release Notes | OpenAI Help Center', 'url': 'https://help.openai.com/en/articles/9624314-model-release-notes', 'content': \"Update to GPT-4o (April 29, 2025) We've reverted the most recent update to GPT-4o due to issues with overly agreeable responses (sycophancy). We're actively\", 'score': 0.83290404}]\n"
     ]
    }
   ],
   "source": [
    "import os\n",
    "from dotenv import load_dotenv\n",
    "from langchain.chat_models import ChatOpenAI\n",
    "from langchain.prompts import PromptTemplate\n",
    "from langchain.chains import LLMChain\n",
    "from langchain.agents import Tool\n",
    "from langchain.tools import TavilySearchResults\n",
    "\n",
    "# 🔐 Load API keys\n",
    "load_dotenv(dotenv_path=\".env\")\n",
    "openai_api_key = os.getenv(\"OPENAI_API_KEY\")\n",
    "tavily_api_key = os.getenv(\"TAVILY_API_KEY\")\n",
    "\n",
    "# 🔸 Initialize LLM\n",
    "llm = ChatOpenAI(model=\"gpt-3.5-turbo\", temperature=0)\n",
    "\n",
    "# ✅ Tool 1: Simple QA\n",
    "qa_prompt = PromptTemplate.from_template(\"Answer clearly: {question}\")\n",
    "qa_chain = LLMChain(llm=llm, prompt=qa_prompt)\n",
    "qa_tool = Tool(\n",
    "    name=\"Simple QA\",\n",
    "    func=qa_chain.run,\n",
    "    description=\"Answer factual questions clearly\"\n",
    ")\n",
    "\n",
    "# ✅ Tool 2: Summarizer\n",
    "summary_prompt = PromptTemplate.from_template(\"Summarize the following text:\\n\\n{text}\")\n",
    "summary_chain = LLMChain(llm=llm, prompt=summary_prompt)\n",
    "summary_tool = Tool(\n",
    "    name=\"Summarizer\",\n",
    "    func=summary_chain.run,\n",
    "    description=\"Summarizes input text\"\n",
    ")\n",
    "\n",
    "# ✅ Tool 3: Web Search (Tavily)\n",
    "search_tool = Tool(\n",
    "    name=\"Web Search\",\n",
    "    func=TavilySearchResults(max_results=3).run,\n",
    "    description=\"Search the internet for current information\"\n",
    ")\n",
    "\n",
    "# 🧪 Run each tool manually\n",
    "qa_query = \"What is LangGraph in LangChain?\"\n",
    "summary_text = \"\"\"\n",
    "LangGraph is a framework for building stateful multi-step agents using LangChain. \n",
    "It uses graph-based design to model agent workflows and memory.\n",
    "\"\"\"\n",
    "search_query = \"Latest updates on GPT-4o by OpenAI\"\n",
    "\n",
    "print(\"\\n🧠 Simple QA Tool Output:\\n\", qa_tool.run({\"question\": qa_query}))\n",
    "print(\"\\n📝 Summarizer Tool Output:\\n\", summary_tool.run({\"text\": summary_text}))\n",
    "print(\"\\n🌐 Web Search Tool Output:\\n\", search_tool.run(search_query))\n"
   ]
  },
  {
   "cell_type": "code",
   "execution_count": null,
   "id": "a81c0085-f7fd-491f-8915-d3e4b30a1997",
   "metadata": {},
   "outputs": [],
   "source": []
  }
 ],
 "metadata": {
  "kernelspec": {
   "display_name": "Python 3 (ipykernel)",
   "language": "python",
   "name": "python3"
  },
  "language_info": {
   "codemirror_mode": {
    "name": "ipython",
    "version": 3
   },
   "file_extension": ".py",
   "mimetype": "text/x-python",
   "name": "python",
   "nbconvert_exporter": "python",
   "pygments_lexer": "ipython3",
   "version": "3.10.18"
  }
 },
 "nbformat": 4,
 "nbformat_minor": 5
}
