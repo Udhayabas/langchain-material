{
 "cells": [
  {
   "cell_type": "code",
   "execution_count": 2,
   "id": "780defac-7da5-4380-b94d-225e583e5989",
   "metadata": {},
   "outputs": [
    {
     "ename": "NameError",
     "evalue": "name 'load_dotenv' is not defined",
     "output_type": "error",
     "traceback": [
      "\u001b[1;31m---------------------------------------------------------------------------\u001b[0m",
      "\u001b[1;31mNameError\u001b[0m                                 Traceback (most recent call last)",
      "Cell \u001b[1;32mIn[2], line 14\u001b[0m\n\u001b[0;32m     11\u001b[0m \u001b[38;5;28;01mfrom\u001b[39;00m\u001b[38;5;250m \u001b[39m\u001b[38;5;21;01mlangchain\u001b[39;00m\u001b[38;5;21;01m.\u001b[39;00m\u001b[38;5;21;01mmemory\u001b[39;00m\u001b[38;5;250m \u001b[39m\u001b[38;5;28;01mimport\u001b[39;00m ConversationBufferMemory  \u001b[38;5;66;03m# ✅ NEW\u001b[39;00m\n\u001b[0;32m     13\u001b[0m \u001b[38;5;66;03m# 🔐 Set API keys\u001b[39;00m\n\u001b[1;32m---> 14\u001b[0m \u001b[43mload_dotenv\u001b[49m(dotenv_path\u001b[38;5;241m=\u001b[39m\u001b[38;5;124m\"\u001b[39m\u001b[38;5;124m.env\u001b[39m\u001b[38;5;124m\"\u001b[39m)  \n\u001b[0;32m     15\u001b[0m openai_api_key \u001b[38;5;241m=\u001b[39m os\u001b[38;5;241m.\u001b[39mgetenv(\u001b[38;5;124m\"\u001b[39m\u001b[38;5;124mOPENAI_API_KEY\u001b[39m\u001b[38;5;124m\"\u001b[39m)\n\u001b[0;32m     16\u001b[0m tavily_api_key \u001b[38;5;241m=\u001b[39m os\u001b[38;5;241m.\u001b[39mgetenv(\u001b[38;5;124m\"\u001b[39m\u001b[38;5;124mTAVILY_API_KEY\u001b[39m\u001b[38;5;124m\"\u001b[39m)\n",
      "\u001b[1;31mNameError\u001b[0m: name 'load_dotenv' is not defined"
     ]
    }
   ],
   "source": [
    "import os\n",
    "from langchain.chat_models import ChatOpenAI\n",
    "from langchain.prompts import PromptTemplate\n",
    "from langchain.chains import LLMChain\n",
    "from langchain.vectorstores import FAISS\n",
    "from langchain.embeddings import OpenAIEmbeddings\n",
    "from langchain.document_loaders import TextLoader\n",
    "from langchain.chains.retrieval_qa.base import RetrievalQA\n",
    "from langchain.agents import Tool, initialize_agent, AgentType\n",
    "from langchain.tools import TavilySearchResults\n",
    "from langchain.memory import ConversationBufferMemory  # ✅ NEW\n",
    "from dotenv import load_dotenv\n",
    "\n",
    "# 🔐 Set API keys\n",
    "load_dotenv(dotenv_path=\".env\")  \n",
    "openai_api_key = os.getenv(\"OPENAI_API_KEY\")\n",
    "tavily_api_key = os.getenv(\"TAVILY_API_KEY\")\n",
    "\n",
    "# 🔸 1. LLM\n",
    "llm = ChatOpenAI(model=\"gpt-3.5-turbo\", temperature=0)\n",
    "\n",
    "# 🔸 2. Prompt + LLMChain\n",
    "prompt = PromptTemplate.from_template(\"Answer clearly: {question}\")\n",
    "qa_chain = LLMChain(llm=llm, prompt=prompt)\n",
    "\n",
    "# 🔸 3. Load documents for RAG\n",
    "loader = TextLoader(\"sample.txt\")  # Make sure this file exists\n",
    "documents = loader.load()\n",
    "\n",
    "# 🔸 4. Vector DB (FAISS)\n",
    "embedding = OpenAIEmbeddings()\n",
    "vectordb = FAISS.from_documents(documents, embedding)\n",
    "retriever = vectordb.as_retriever()\n",
    "\n",
    "# 🔸 5. RAG Chain\n",
    "rag_chain = RetrievalQA.from_chain_type(llm=llm, retriever=retriever)\n",
    "\n",
    "# 🔸 6. Tools (Wrap chains/functions)\n",
    "tools = [\n",
    "    Tool(name=\"Simple QA\", func=qa_chain.run, description=\"Answer with basic LLMChain\"),\n",
    "    Tool(name=\"RAG Search\", func=rag_chain.run, description=\"Answer using document retrieval\"),\n",
    "    Tool(name=\"Web Search\", func=TavilySearchResults(max_results=3).run, description=\"Search the internet\")\n",
    "]\n",
    "\n",
    "# 🔸 7. Memory (Conversation history) ✅ NEW\n",
    "memory = ConversationBufferMemory(memory_key=\"chat_history\", return_messages=True)\n",
    "\n",
    "# 🔸 8. Agent with memory ✅ UPDATED\n",
    "agent = initialize_agent(\n",
    "    tools=tools,\n",
    "    llm=llm,\n",
    "    agent=AgentType.ZERO_SHOT_REACT_DESCRIPTION,\n",
    "    memory=memory,\n",
    "    verbose=True\n",
    ")\n",
    "\n",
    "# 🔸 9. Run multi-turn chat\n",
    "query1 = \"What is LangGraph in LangChain?\"\n",
    "response1 = agent.run(query1)\n",
    "print(\"\\n🟢 First Response:\\n\", response1)\n",
    "\n",
    "query2 = \"Can you explain that in simpler words?\"\n",
    "response2 = agent.run(query2)\n",
    "print(\"\\n🔁 Follow-up Response:\\n\", response2)\n",
    "\n",
    "# 🔸 (Optional) View stored memory\n",
    "print(\"\\n🧠 Conversation Memory:\\n\", memory.load_memory_variables({}))\n"
   ]
  },
  {
   "cell_type": "code",
   "execution_count": null,
   "id": "e8aaf2e6-6536-42f3-884b-c204b73ac865",
   "metadata": {},
   "outputs": [],
   "source": []
  }
 ],
 "metadata": {
  "kernelspec": {
   "display_name": "Python 3 (ipykernel)",
   "language": "python",
   "name": "python3"
  },
  "language_info": {
   "codemirror_mode": {
    "name": "ipython",
    "version": 3
   },
   "file_extension": ".py",
   "mimetype": "text/x-python",
   "name": "python",
   "nbconvert_exporter": "python",
   "pygments_lexer": "ipython3",
   "version": "3.10.18"
  }
 },
 "nbformat": 4,
 "nbformat_minor": 5
}
