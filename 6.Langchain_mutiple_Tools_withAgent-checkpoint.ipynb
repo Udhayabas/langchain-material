{
 "cells": [
  {
   "cell_type": "code",
   "execution_count": 4,
   "id": "0c0d892b-355c-41cb-b750-0440de355b3f",
   "metadata": {},
   "outputs": [
    {
     "name": "stdout",
     "output_type": "stream",
     "text": [
      "\n",
      "🧑‍💻 User Query: What is LangGraph in LangChain?\n",
      "\n",
      "🤖 Agent Response: LangGraph in LangChain is a graph database that stores and manages language data.\n",
      "\n",
      "🧑‍💻 User Query: Summarize this: LangChain is a framework to build LLM apps using prompts, memory, tools, and agents.\n",
      "\n",
      "🤖 Agent Response: LangChain is a framework that enables the development of LLM apps with prompts, memory, tools, and agents.\n",
      "\n",
      "🧑‍💻 User Query: Latest news about OpenAI GPT-4o\n",
      "\n",
      "🤖 Agent Response: The latest news about OpenAI GPT-4o includes its launch, availability for testing in Azure AI Foundry, new API versions, and the introduction of the GPT-4.5 model.\n"
     ]
    }
   ],
   "source": [
    "import os\n",
    "from dotenv import load_dotenv\n",
    "from langchain.chat_models import ChatOpenAI\n",
    "from langchain.prompts import PromptTemplate\n",
    "from langchain.chains import LLMChain\n",
    "from langchain.agents import Tool, initialize_agent, AgentType\n",
    "from langchain.tools import TavilySearchResults\n",
    "\n",
    "# 🔐 Load API keys\n",
    "load_dotenv(\".env\")\n",
    "openai_api_key = os.getenv(\"OPENAI_API_KEY\")\n",
    "tavily_api_key = os.getenv(\"TAVILY_API_KEY\")\n",
    "\n",
    "# 🔸 Initialize LLM\n",
    "llm = ChatOpenAI(model=\"gpt-3.5-turbo\", temperature=0)\n",
    "\n",
    "# ✅ Tool 1: Simple QA Tool\n",
    "qa_prompt = PromptTemplate.from_template(\"Answer clearly: {question}\")\n",
    "qa_chain = LLMChain(llm=llm, prompt=qa_prompt)\n",
    "qa_tool = Tool(\n",
    "    name=\"Simple QA\",\n",
    "    func=qa_chain.run,\n",
    "    description=\"Answers factual questions clearly\"\n",
    ")\n",
    "\n",
    "# ✅ Tool 2: Summarizer Tool\n",
    "summary_prompt = PromptTemplate.from_template(\"Summarize this text:\\n\\n{text}\")\n",
    "summary_chain = LLMChain(llm=llm, prompt=summary_prompt)\n",
    "summary_tool = Tool(\n",
    "    name=\"Summarizer\",\n",
    "    func=summary_chain.run,\n",
    "    description=\"Summarizes long paragraphs or text content\"\n",
    ")\n",
    "\n",
    "# ✅ Tool 3: Web Search Tool (Tavily)\n",
    "search_tool = Tool(\n",
    "    name=\"Web Search\",\n",
    "    func=TavilySearchResults(max_results=3).run,\n",
    "    description=\"Search the internet for current and live information\"\n",
    ")\n",
    "\n",
    "# 🔧 Wrap all tools in an agent\n",
    "tools = [qa_tool, summary_tool, search_tool]\n",
    "\n",
    "agent_executor = initialize_agent(\n",
    "    tools=tools,\n",
    "    llm=llm,\n",
    "    agent=AgentType.ZERO_SHOT_REACT_DESCRIPTION,\n",
    "    verbose=True  # shows reasoning process\n",
    ")\n",
    "\n",
    "# 🚀 Run user queries\n",
    "queries = [\n",
    "    \"What is LangGraph in LangChain?\",\n",
    "    \"Summarize this: LangChain is a framework to build LLM apps using prompts, memory, tools, and agents.\",\n",
    "    \"Latest news about OpenAI GPT-4o\"\n",
    "]\n",
    "\n",
    "for query in queries:\n",
    "    print(\"\\n🧑‍💻 User Query:\", query)\n",
    "    response = agent_executor.run(query)\n",
    "    print(\"\\n🤖 Agent Response:\", response)\n"
   ]
  },
  {
   "cell_type": "code",
   "execution_count": 3,
   "id": "a5fbc704-835b-447a-a9cc-bbef3f870b55",
   "metadata": {},
   "outputs": [
    {
     "data": {
      "text/plain": [
       "'OpenAI GPT-4o is a multilingual, multimodal generative pre-trained transformer developed by OpenAI and released in May 2024. It can process and generate text, images, and audio. In August 2024, OpenAI introduced a new feature allowing corporate customers to customize GPT-4o using proprietary company data through fine-tuning.'"
      ]
     },
     "execution_count": 3,
     "metadata": {},
     "output_type": "execute_result"
    }
   ],
   "source": [
    "response"
   ]
  },
  {
   "cell_type": "code",
   "execution_count": null,
   "id": "a2fd9901-89b8-4c6c-8294-c0e6374f196c",
   "metadata": {},
   "outputs": [],
   "source": []
  }
 ],
 "metadata": {
  "kernelspec": {
   "display_name": "Python 3 (ipykernel)",
   "language": "python",
   "name": "python3"
  },
  "language_info": {
   "codemirror_mode": {
    "name": "ipython",
    "version": 3
   },
   "file_extension": ".py",
   "mimetype": "text/x-python",
   "name": "python",
   "nbconvert_exporter": "python",
   "pygments_lexer": "ipython3",
   "version": "3.10.18"
  }
 },
 "nbformat": 4,
 "nbformat_minor": 5
}
