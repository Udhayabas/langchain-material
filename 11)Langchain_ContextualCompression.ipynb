{
 "cells": [
  {
   "cell_type": "code",
   "execution_count": 2,
   "id": "31442910-9c3b-47b2-b9b6-497c428d4e13",
   "metadata": {},
   "outputs": [
    {
     "name": "stderr",
     "output_type": "stream",
     "text": [
      "C:\\Users\\Ramisha Aravind\\AppData\\Local\\Temp\\ipykernel_11976\\4069245841.py:31: LangChainDeprecationWarning: The class `ChatOpenAI` was deprecated in LangChain 0.0.10 and will be removed in 1.0. An updated version of the class exists in the :class:`~langchain-openai package and should be used instead. To use it run `pip install -U :class:`~langchain-openai` and import as `from :class:`~langchain_openai import ChatOpenAI``.\n",
      "  llm = ChatOpenAI(temperature=0)\n"
     ]
    }
   ],
   "source": [
    "# 📦 Required installs\n",
    "# !pip install langchain openai faiss-cpu\n",
    "\n",
    "from langchain.chat_models import ChatOpenAI\n",
    "from langchain.vectorstores import FAISS\n",
    "from langchain.embeddings import OpenAIEmbeddings\n",
    "from langchain.text_splitter import CharacterTextSplitter\n",
    "from langchain.schema import Document\n",
    "\n",
    "import os\n",
    "from dotenv import load_dotenv\n",
    "\n",
    "# 2️⃣ Load API keys\n",
    "load_dotenv(\".env\")\n",
    "os.environ[\"OPENAI_API_KEY\"] = os.getenv(\"OPENAI_API_KEY\")\n",
    "\n",
    "# 1. Load the text file\n",
    "with open(\"sample.txt\", \"r\", encoding=\"utf-8\") as f:\n",
    "    raw_text = f.read()\n",
    "\n",
    "# 2. Split the text into chunks\n",
    "splitter = CharacterTextSplitter(chunk_size=300, chunk_overlap=50)\n",
    "chunks = splitter.split_text(raw_text)\n",
    "documents = [Document(page_content=chunk) for chunk in chunks]\n",
    "\n",
    "# 3. Create vector store\n",
    "embedding = OpenAIEmbeddings()\n",
    "vectorstore = FAISS.from_documents(documents, embedding=embedding)\n",
    "\n",
    "# 4. Setup LLM\n",
    "llm = ChatOpenAI(temperature=0)\n"
   ]
  },
  {
   "cell_type": "code",
   "execution_count": 3,
   "id": "9f812d43-fe8f-47ac-8b3b-15aafcc6aaff",
   "metadata": {},
   "outputs": [
    {
     "name": "stdout",
     "output_type": "stream",
     "text": [
      "🔹 Contextual Compression Results:\n"
     ]
    },
    {
     "name": "stderr",
     "output_type": "stream",
     "text": [
      "C:\\Users\\Ramisha Aravind\\AppData\\Local\\Temp\\ipykernel_11976\\2609441612.py:15: LangChainDeprecationWarning: The method `BaseRetriever.get_relevant_documents` was deprecated in langchain-core 0.1.46 and will be removed in 1.0. Use :meth:`~invoke` instead.\n",
      "  results = compression_retriever.get_relevant_documents(\"Who created LangChain?\")\n"
     ]
    },
    {
     "name": "stdout",
     "output_type": "stream",
     "text": [
      "- LangChain was created by Harrison Chase.\n"
     ]
    }
   ],
   "source": [
    "#Get retrieves --> it does not generate\n",
    "from langchain.retrievers import ContextualCompressionRetriever\n",
    "from langchain.retrievers.document_compressors import LLMChainExtractor\n",
    "\n",
    "# Compressor using LLM\n",
    "compressor = LLMChainExtractor.from_llm(llm)\n",
    "\n",
    "# Create compression retriever\n",
    "compression_retriever = ContextualCompressionRetriever(\n",
    "    base_compressor=compressor,\n",
    "    base_retriever=vectorstore.as_retriever()\n",
    ")\n",
    "\n",
    "# Run retrieval\n",
    "print(\"🔹 Contextual Compression Results:\")\n",
    "results = compression_retriever.get_relevant_documents(\"Who created LangChain?\")\n",
    "for doc in results:\n",
    "    print(\"-\", doc.page_content)\n"
   ]
  },
  {
   "cell_type": "code",
   "execution_count": 4,
   "id": "0f185d4a-a0b9-4da9-a207-7ff0903e7d44",
   "metadata": {},
   "outputs": [
    {
     "name": "stderr",
     "output_type": "stream",
     "text": [
      "C:\\Users\\Ramisha Aravind\\AppData\\Local\\Temp\\ipykernel_11976\\699823859.py:16: LangChainDeprecationWarning: Please see the migration guide at: https://python.langchain.com/docs/versions/migrating_memory/\n",
      "  memory = ConversationBufferMemory(memory_key=\"chat_history\", return_messages=True)\n"
     ]
    },
    {
     "name": "stdout",
     "output_type": "stream",
     "text": [
      "🔹 ConversationalRetrievalChain:\n",
      "LangChain is a framework for building applications with Large Language Models (LLMs).\n",
      "LangChain was created by Harrison Chase.\n"
     ]
    }
   ],
   "source": [
    "#Integration with ConversationalRetrievalChain- Without agent mode\n",
    "from langchain.chains import ConversationalRetrievalChain\n",
    "from langchain.memory import ConversationBufferMemory\n",
    "\n",
    "# ✅ ContextualCompressionRetriever\n",
    "from langchain.retrievers import ContextualCompressionRetriever\n",
    "from langchain.retrievers.document_compressors import LLMChainExtractor\n",
    "\n",
    "compressor = LLMChainExtractor.from_llm(llm)\n",
    "compression_retriever = ContextualCompressionRetriever(\n",
    "    base_compressor=compressor,\n",
    "    base_retriever=vectorstore.as_retriever()\n",
    ")\n",
    "\n",
    "# ✅ Memory\n",
    "memory = ConversationBufferMemory(memory_key=\"chat_history\", return_messages=True)\n",
    "\n",
    "# ✅ Chain\n",
    "rag_chain = ConversationalRetrievalChain.from_llm(\n",
    "    llm=llm,\n",
    "    retriever=compression_retriever,\n",
    "    memory=memory\n",
    ")\n",
    "\n",
    "# 🧪 Ask a few questions\n",
    "print(\"🔹 ConversationalRetrievalChain:\")\n",
    "print(rag_chain.invoke({\"question\": \"What is LangChain?\"})[\"answer\"])\n",
    "print(rag_chain.invoke({\"question\": \"Who created it?\"})[\"answer\"])\n"
   ]
  },
  {
   "cell_type": "code",
   "execution_count": 8,
   "id": "57dae6c8-41ec-4555-9901-33b28fcc4464",
   "metadata": {},
   "outputs": [
    {
     "name": "stdout",
     "output_type": "stream",
     "text": [
      "\n",
      "🔹 Agent Conversation:\n",
      "\n",
      "\n",
      "\u001b[1m> Entering new AgentExecutor chain...\u001b[0m\n",
      "\u001b[32;1m\u001b[1;3mThought: Do I need to use a tool? No\n",
      "AI: LangChain is a framework for building applications with Large Language Models (LLMs). It was created by Harrison Chase.\u001b[0m\n",
      "\n",
      "\u001b[1m> Finished chain.\u001b[0m\n",
      "LangChain is a framework for building applications with Large Language Models (LLMs). It was created by Harrison Chase.\n",
      "\n",
      "\n",
      "\u001b[1m> Entering new AgentExecutor chain...\u001b[0m\n",
      "\u001b[32;1m\u001b[1;3mThought: Do I need to use a tool? No\n",
      "AI: LangChain was created by Harrison Chase.\u001b[0m\n",
      "\n",
      "\u001b[1m> Finished chain.\u001b[0m\n",
      "LangChain was created by Harrison Chase.\n"
     ]
    }
   ],
   "source": [
    "#Integration into Agent (with Tool)\n",
    "\n",
    "from langchain.agents import initialize_agent, AgentType\n",
    "from langchain.tools import StructuredTool\n",
    "\n",
    "# 5. Wrap RAG as a StructuredTool\n",
    "def rag_tool_fn(question: str) -> str:\n",
    "    return rag_chain.invoke({\n",
    "        \"question\": question,\n",
    "        \"chat_history\": [memory.chat_memory.messages ]\n",
    "    })[\"answer\"]\n",
    "\n",
    "# Structured Tool\n",
    "rag_tool = StructuredTool.from_function(\n",
    "    name=\"RAG_Tool\",\n",
    "    description=\"Answer LangChain-related questions with context.\",\n",
    "    func=rag_tool_fn\n",
    ")\n",
    "\n",
    "# Agent with memory\n",
    "agent = initialize_agent(\n",
    "    tools=[rag_tool],\n",
    "    llm=llm,\n",
    "    agent=AgentType.CONVERSATIONAL_REACT_DESCRIPTION,\n",
    "    memory=memory,\n",
    "    verbose=True\n",
    ")\n",
    "\n",
    "# 🧪 Ask via agent\n",
    "print(\"\\n🔹 Agent Conversation:\")\n",
    "print(agent.run(\"What is LangChain?\"))\n",
    "print(agent.run(\"Who created it?\"))\n"
   ]
  },
  {
   "cell_type": "code",
   "execution_count": 11,
   "id": "377de73c-ba45-4812-89e5-f11f78381e44",
   "metadata": {},
   "outputs": [
    {
     "name": "stdout",
     "output_type": "stream",
     "text": [
      "\n",
      "🔹 RAG Pipeline (MultiQueryRetriever):\n",
      "Answer: LangChain was created by Harrison Chase. The framework supports various features such as RAG, agents, memory, tools, and more. It is commonly used in applications like chatbots, document Q&A, and AI workflow.\n",
      "\n",
      "Sources:\n",
      "- LangChain is a framework for building applications with LLMs.LangChain was created by Harrison Chase.LangChain supports RAG, agents, memory, tools, and more.It’s commonly used in chatbots, document Q&\n"
     ]
    }
   ],
   "source": [
    "#multiQuery\n",
    "from langchain.retrievers.multi_query import MultiQueryRetriever\n",
    "from langchain.chains import RetrievalQA\n",
    "\n",
    "# MultiQueryRetriever\n",
    "multi_query_retriever = MultiQueryRetriever.from_llm(\n",
    "    retriever=vectorstore.as_retriever(),\n",
    "    llm=llm\n",
    ")\n",
    "\n",
    "# RetrievalQA Chain\n",
    "rag_multi = RetrievalQA.from_chain_type(\n",
    "    llm=llm,\n",
    "    retriever=multi_query_retriever,\n",
    "    return_source_documents=True\n",
    ")\n",
    "\n",
    "# 🧪 Ask question\n",
    "#print(\"\\n🔹 RAG Pipeline (MultiQueryRetriever):\")\n",
    "#res = rag_multi.run(\"Tell me about LangChain creator and features.\")\n",
    "#print(res)\n",
    "\n",
    "# 🧪 Ask question\n",
    "print(\"\\n🔹 RAG Pipeline (MultiQueryRetriever):\")\n",
    "res = rag_multi.invoke({\"query\": \"Tell me about LangChain creator and features.\"})\n",
    "\n",
    "print(\"Answer:\", res[\"result\"])\n",
    "print(\"\\nSources:\")\n",
    "for doc in res[\"source_documents\"]:\n",
    "    print(\"-\", doc.page_content[:200])  # print first 200 chars of each doc\n",
    "\n"
   ]
  },
  {
   "cell_type": "code",
   "execution_count": null,
   "id": "c432bc13-6847-466d-bf4b-ffb4da2ae0c3",
   "metadata": {},
   "outputs": [],
   "source": []
  }
 ],
 "metadata": {
  "kernelspec": {
   "display_name": "Python 3 (ipykernel)",
   "language": "python",
   "name": "python3"
  },
  "language_info": {
   "codemirror_mode": {
    "name": "ipython",
    "version": 3
   },
   "file_extension": ".py",
   "mimetype": "text/x-python",
   "name": "python",
   "nbconvert_exporter": "python",
   "pygments_lexer": "ipython3",
   "version": "3.10.18"
  }
 },
 "nbformat": 4,
 "nbformat_minor": 5
}
